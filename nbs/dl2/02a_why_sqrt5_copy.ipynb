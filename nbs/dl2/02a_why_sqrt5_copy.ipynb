{
  "nbformat": 4,
  "nbformat_minor": 0,
  "metadata": {
    "kernelspec": {
      "display_name": "Python 3",
      "language": "python",
      "name": "python3"
    },
    "colab": {
      "name": "02a_why_sqrt5.ipynb",
      "version": "0.3.2",
      "provenance": []
    }
  },
  "cells": [
    {
      "cell_type": "code",
      "metadata": {
        "id": "O3G_mRXylgqS",
        "colab_type": "code",
        "colab": {}
      },
      "source": [
        "%load_ext autoreload\n",
        "%autoreload 2\n",
        "\n",
        "%matplotlib inline"
      ],
      "execution_count": 0,
      "outputs": []
    },
    {
      "cell_type": "markdown",
      "metadata": {
        "id": "OwucUyEYlgqV",
        "colab_type": "text"
      },
      "source": [
        "## Does nn.Conv2d init work well?"
      ]
    },
    {
      "cell_type": "markdown",
      "metadata": {
        "id": "T8sBryeclgqW",
        "colab_type": "text"
      },
      "source": [
        "[Jump_to lesson 9 video](https://course.fast.ai/videos/?lesson=9&t=21)"
      ]
    },
    {
      "cell_type": "code",
      "metadata": {
        "id": "5Hx_tJ6YlgqY",
        "colab_type": "code",
        "colab": {}
      },
      "source": [
        "#export\n",
        "from exp.nb_02 import *\n",
        "\n",
        "def get_data():\n",
        "    path = datasets.download_data(MNIST_URL, ext='.gz')\n",
        "    with gzip.open(path, 'rb') as f:\n",
        "        ((x_train, y_train), (x_valid, y_valid), _) = pickle.load(f, encoding='latin-1')\n",
        "    return map(tensor, (x_train,y_train,x_valid,y_valid))\n",
        "\n",
        "def normalize(x, m, s): return (x-m)/s"
      ],
      "execution_count": 0,
      "outputs": []
    },
    {
      "cell_type": "code",
      "metadata": {
        "id": "ANGSJqGVlgqa",
        "colab_type": "code",
        "colab": {}
      },
      "source": [
        "torch.nn.modules.conv._ConvNd.reset_parameters??"
      ],
      "execution_count": 0,
      "outputs": []
    },
    {
      "cell_type": "code",
      "metadata": {
        "id": "hiHZcDbZlgqe",
        "colab_type": "code",
        "colab": {}
      },
      "source": [
        "x_train,y_train,x_valid,y_valid = get_data()\n",
        "train_mean,train_std = x_train.mean(),x_train.std()\n",
        "x_train = normalize(x_train, train_mean, train_std)\n",
        "x_valid = normalize(x_valid, train_mean, train_std)"
      ],
      "execution_count": 0,
      "outputs": []
    },
    {
      "cell_type": "code",
      "metadata": {
        "id": "Bt386ZjAlgqh",
        "colab_type": "code",
        "colab": {},
        "outputId": "4258aa23-610e-467a-cda2-3327a57bcb88"
      },
      "source": [
        "x_train = x_train.view(-1,1,28,28)\n",
        "x_valid = x_valid.view(-1,1,28,28)\n",
        "x_train.shape,x_valid.shape"
      ],
      "execution_count": 0,
      "outputs": [
        {
          "output_type": "execute_result",
          "data": {
            "text/plain": [
              "(torch.Size([50000, 1, 28, 28]), torch.Size([10000, 1, 28, 28]))"
            ]
          },
          "metadata": {
            "tags": []
          },
          "execution_count": 0
        }
      ]
    },
    {
      "cell_type": "code",
      "metadata": {
        "id": "2EehTuP7lgqk",
        "colab_type": "code",
        "colab": {},
        "outputId": "653dd5b2-36bf-44f8-e5ff-48cd8f2cd5c7"
      },
      "source": [
        "n,*_ = x_train.shape\n",
        "c = y_train.max()+1\n",
        "nh = 32\n",
        "n,c"
      ],
      "execution_count": 0,
      "outputs": [
        {
          "output_type": "execute_result",
          "data": {
            "text/plain": [
              "(50000, tensor(10))"
            ]
          },
          "metadata": {
            "tags": []
          },
          "execution_count": 0
        }
      ]
    },
    {
      "cell_type": "code",
      "metadata": {
        "id": "k2g96jUOlgqn",
        "colab_type": "code",
        "colab": {}
      },
      "source": [
        "l1 = nn.Conv2d(1, nh, 5)"
      ],
      "execution_count": 0,
      "outputs": []
    },
    {
      "cell_type": "code",
      "metadata": {
        "id": "cDoM9CGAlgqp",
        "colab_type": "code",
        "colab": {}
      },
      "source": [
        "x = x_valid[:100]"
      ],
      "execution_count": 0,
      "outputs": []
    },
    {
      "cell_type": "code",
      "metadata": {
        "id": "iuXvWDoClgqs",
        "colab_type": "code",
        "colab": {},
        "outputId": "2b0717bf-3a7f-4b6d-c22d-673cd5e904e7"
      },
      "source": [
        "x.shape"
      ],
      "execution_count": 0,
      "outputs": [
        {
          "output_type": "execute_result",
          "data": {
            "text/plain": [
              "torch.Size([100, 1, 28, 28])"
            ]
          },
          "metadata": {
            "tags": []
          },
          "execution_count": 0
        }
      ]
    },
    {
      "cell_type": "code",
      "metadata": {
        "id": "wRRZyLZalgqv",
        "colab_type": "code",
        "colab": {}
      },
      "source": [
        "def stats(x): return x.mean(),x.std()"
      ],
      "execution_count": 0,
      "outputs": []
    },
    {
      "cell_type": "code",
      "metadata": {
        "id": "eB9Emnadlgqx",
        "colab_type": "code",
        "colab": {},
        "outputId": "247f7399-8665-4806-f1d5-6b596593baa1"
      },
      "source": [
        "l1.weight.shape"
      ],
      "execution_count": 0,
      "outputs": [
        {
          "output_type": "execute_result",
          "data": {
            "text/plain": [
              "torch.Size([32, 1, 5, 5])"
            ]
          },
          "metadata": {
            "tags": []
          },
          "execution_count": 0
        }
      ]
    },
    {
      "cell_type": "code",
      "metadata": {
        "id": "7xmH3pyclgqz",
        "colab_type": "code",
        "colab": {},
        "outputId": "a8c8ca76-5efc-4050-dacf-f58eed4b2278"
      },
      "source": [
        "stats(l1.weight),stats(l1.bias)"
      ],
      "execution_count": 0,
      "outputs": [
        {
          "output_type": "execute_result",
          "data": {
            "text/plain": [
              "((tensor(-0.0043, grad_fn=<MeanBackward1>),\n",
              "  tensor(0.1156, grad_fn=<StdBackward0>)),\n",
              " (tensor(0.0212, grad_fn=<MeanBackward1>),\n",
              "  tensor(0.1176, grad_fn=<StdBackward0>)))"
            ]
          },
          "metadata": {
            "tags": []
          },
          "execution_count": 0
        }
      ]
    },
    {
      "cell_type": "code",
      "metadata": {
        "id": "QQIgu8c4lgq1",
        "colab_type": "code",
        "colab": {}
      },
      "source": [
        "t = l1(x)"
      ],
      "execution_count": 0,
      "outputs": []
    },
    {
      "cell_type": "code",
      "metadata": {
        "id": "auVhczmklgq9",
        "colab_type": "code",
        "colab": {},
        "outputId": "e41e001c-a619-4366-cd74-8df0fe215118"
      },
      "source": [
        "stats(t)"
      ],
      "execution_count": 0,
      "outputs": [
        {
          "output_type": "execute_result",
          "data": {
            "text/plain": [
              "(tensor(0.0107, grad_fn=<MeanBackward1>),\n",
              " tensor(0.5978, grad_fn=<StdBackward0>))"
            ]
          },
          "metadata": {
            "tags": []
          },
          "execution_count": 0
        }
      ]
    },
    {
      "cell_type": "code",
      "metadata": {
        "id": "QpdszC3zlgrB",
        "colab_type": "code",
        "colab": {},
        "outputId": "92970bb8-b6d5-453f-9a96-0dda5380f86d"
      },
      "source": [
        "init.kaiming_normal_(l1.weight, a=1.)\n",
        "stats(l1(x))"
      ],
      "execution_count": 0,
      "outputs": [
        {
          "output_type": "execute_result",
          "data": {
            "text/plain": [
              "(tensor(0.0267, grad_fn=<MeanBackward1>),\n",
              " tensor(1.1067, grad_fn=<StdBackward0>))"
            ]
          },
          "metadata": {
            "tags": []
          },
          "execution_count": 0
        }
      ]
    },
    {
      "cell_type": "code",
      "metadata": {
        "id": "_E3-lMsplgrF",
        "colab_type": "code",
        "colab": {}
      },
      "source": [
        "import torch.nn.functional as F"
      ],
      "execution_count": 0,
      "outputs": []
    },
    {
      "cell_type": "code",
      "metadata": {
        "id": "o85WYsGylgrH",
        "colab_type": "code",
        "colab": {}
      },
      "source": [
        "def f1(x,a=0): return F.leaky_relu(l1(x),a)"
      ],
      "execution_count": 0,
      "outputs": []
    },
    {
      "cell_type": "code",
      "metadata": {
        "id": "V5O7rNMJlgrJ",
        "colab_type": "code",
        "colab": {},
        "outputId": "f43e9a85-4e31-4c23-d0c3-f4412d0146ea"
      },
      "source": [
        "init.kaiming_normal_(l1.weight, a=0)\n",
        "stats(f1(x))"
      ],
      "execution_count": 0,
      "outputs": [
        {
          "output_type": "execute_result",
          "data": {
            "text/plain": [
              "(tensor(0.5547, grad_fn=<MeanBackward1>),\n",
              " tensor(1.0199, grad_fn=<StdBackward0>))"
            ]
          },
          "metadata": {
            "tags": []
          },
          "execution_count": 0
        }
      ]
    },
    {
      "cell_type": "code",
      "metadata": {
        "id": "8RenzfyilgrM",
        "colab_type": "code",
        "colab": {},
        "outputId": "23b35677-8056-46f5-8cbb-2b5fcb13209a"
      },
      "source": [
        "l1 = nn.Conv2d(1, nh, 5)\n",
        "stats(f1(x))"
      ],
      "execution_count": 0,
      "outputs": [
        {
          "output_type": "execute_result",
          "data": {
            "text/plain": [
              "(tensor(0.2219, grad_fn=<MeanBackward1>),\n",
              " tensor(0.3653, grad_fn=<StdBackward0>))"
            ]
          },
          "metadata": {
            "tags": []
          },
          "execution_count": 0
        }
      ]
    },
    {
      "cell_type": "code",
      "metadata": {
        "id": "O64FdQEUlgrP",
        "colab_type": "code",
        "colab": {},
        "outputId": "ac20493c-4349-48b9-bbfe-5b80a913c199"
      },
      "source": [
        "l1.weight.shape"
      ],
      "execution_count": 0,
      "outputs": [
        {
          "output_type": "execute_result",
          "data": {
            "text/plain": [
              "torch.Size([32, 1, 5, 5])"
            ]
          },
          "metadata": {
            "tags": []
          },
          "execution_count": 0
        }
      ]
    },
    {
      "cell_type": "code",
      "metadata": {
        "id": "BvD6ptBDlgrW",
        "colab_type": "code",
        "colab": {},
        "outputId": "1b6aa33f-e466-4a5d-fd03-4bc1ed4fe45c"
      },
      "source": [
        "# receptive field size\n",
        "rec_fs = l1.weight[0,0].numel()\n",
        "rec_fs"
      ],
      "execution_count": 0,
      "outputs": [
        {
          "output_type": "execute_result",
          "data": {
            "text/plain": [
              "25"
            ]
          },
          "metadata": {
            "tags": []
          },
          "execution_count": 0
        }
      ]
    },
    {
      "cell_type": "code",
      "metadata": {
        "id": "liCnynHflgrb",
        "colab_type": "code",
        "colab": {},
        "outputId": "12272c3c-2b2b-4adf-9c7e-6c4a141ffba4"
      },
      "source": [
        "nf,ni,*_ = l1.weight.shape\n",
        "nf,ni"
      ],
      "execution_count": 0,
      "outputs": [
        {
          "output_type": "execute_result",
          "data": {
            "text/plain": [
              "(32, 1)"
            ]
          },
          "metadata": {
            "tags": []
          },
          "execution_count": 0
        }
      ]
    },
    {
      "cell_type": "code",
      "metadata": {
        "id": "xHnmtBsFlgrd",
        "colab_type": "code",
        "colab": {},
        "outputId": "b6b59d7c-7b4d-4824-90a6-9cde6cfbd796"
      },
      "source": [
        "fan_in  = ni*rec_fs\n",
        "fan_out = nf*rec_fs\n",
        "fan_in,fan_out"
      ],
      "execution_count": 0,
      "outputs": [
        {
          "output_type": "execute_result",
          "data": {
            "text/plain": [
              "(25, 800)"
            ]
          },
          "metadata": {
            "tags": []
          },
          "execution_count": 0
        }
      ]
    },
    {
      "cell_type": "code",
      "metadata": {
        "id": "ZHLEi_solgrg",
        "colab_type": "code",
        "colab": {}
      },
      "source": [
        "def gain(a): return math.sqrt(2.0 / (1 + a**2))"
      ],
      "execution_count": 0,
      "outputs": []
    },
    {
      "cell_type": "code",
      "metadata": {
        "id": "hqlkZZ1ylgrj",
        "colab_type": "code",
        "colab": {},
        "outputId": "33587a2c-778f-4bfe-c2df-38f1a161a063"
      },
      "source": [
        "gain(1),gain(0),gain(0.01),gain(0.1),gain(math.sqrt(5.))"
      ],
      "execution_count": 0,
      "outputs": [
        {
          "output_type": "execute_result",
          "data": {
            "text/plain": [
              "(1.0,\n",
              " 1.4142135623730951,\n",
              " 1.4141428569978354,\n",
              " 1.4071950894605838,\n",
              " 0.5773502691896257)"
            ]
          },
          "metadata": {
            "tags": []
          },
          "execution_count": 0
        }
      ]
    },
    {
      "cell_type": "code",
      "metadata": {
        "id": "roK3YSVSlgrm",
        "colab_type": "code",
        "colab": {},
        "outputId": "5be0d842-cddb-45e1-f8c7-bc31a5bc253c"
      },
      "source": [
        "torch.zeros(10000).uniform_(-1,1).std()"
      ],
      "execution_count": 0,
      "outputs": [
        {
          "output_type": "execute_result",
          "data": {
            "text/plain": [
              "tensor(0.5788)"
            ]
          },
          "metadata": {
            "tags": []
          },
          "execution_count": 0
        }
      ]
    },
    {
      "cell_type": "code",
      "metadata": {
        "id": "dfqWb8Gylgro",
        "colab_type": "code",
        "colab": {},
        "outputId": "22f3a1b0-4011-4bcb-a83e-7cc9290693c9"
      },
      "source": [
        "1/math.sqrt(3.)"
      ],
      "execution_count": 0,
      "outputs": [
        {
          "output_type": "execute_result",
          "data": {
            "text/plain": [
              "0.5773502691896258"
            ]
          },
          "metadata": {
            "tags": []
          },
          "execution_count": 0
        }
      ]
    },
    {
      "cell_type": "code",
      "metadata": {
        "id": "F4vqBYHmlgrr",
        "colab_type": "code",
        "colab": {}
      },
      "source": [
        "def kaiming2(x,a, use_fan_out=False):\n",
        "    nf,ni,*_ = x.shape\n",
        "    rec_fs = x[0,0].shape.numel()\n",
        "    fan = nf*rec_fs if use_fan_out else ni*rec_fs\n",
        "    std = gain(a) / math.sqrt(fan)\n",
        "    bound = math.sqrt(3.) * std\n",
        "    x.data.uniform_(-bound,bound)"
      ],
      "execution_count": 0,
      "outputs": []
    },
    {
      "cell_type": "code",
      "metadata": {
        "id": "ayyEUKDRlgrt",
        "colab_type": "code",
        "colab": {},
        "outputId": "7fdb3ec1-8357-4ea1-adb9-2126739f7b67"
      },
      "source": [
        "kaiming2(l1.weight, a=0);\n",
        "stats(f1(x))"
      ],
      "execution_count": 0,
      "outputs": [
        {
          "output_type": "execute_result",
          "data": {
            "text/plain": [
              "(tensor(0.5603, grad_fn=<MeanBackward1>),\n",
              " tensor(1.0921, grad_fn=<StdBackward0>))"
            ]
          },
          "metadata": {
            "tags": []
          },
          "execution_count": 0
        }
      ]
    },
    {
      "cell_type": "code",
      "metadata": {
        "id": "XaSilatxlgrv",
        "colab_type": "code",
        "colab": {},
        "outputId": "a1a906cd-0cb8-47a8-e095-d344dd7d7ce7"
      },
      "source": [
        "kaiming2(l1.weight, a=math.sqrt(5.))\n",
        "stats(f1(x))"
      ],
      "execution_count": 0,
      "outputs": [
        {
          "output_type": "execute_result",
          "data": {
            "text/plain": [
              "(tensor(0.2186, grad_fn=<MeanBackward1>),\n",
              " tensor(0.3437, grad_fn=<StdBackward0>))"
            ]
          },
          "metadata": {
            "tags": []
          },
          "execution_count": 0
        }
      ]
    },
    {
      "cell_type": "code",
      "metadata": {
        "id": "msUoB7Gklgrx",
        "colab_type": "code",
        "colab": {}
      },
      "source": [
        "class Flatten(nn.Module):\n",
        "    def forward(self,x): return x.view(-1)"
      ],
      "execution_count": 0,
      "outputs": []
    },
    {
      "cell_type": "code",
      "metadata": {
        "id": "fIKxQM6flgr0",
        "colab_type": "code",
        "colab": {}
      },
      "source": [
        "m = nn.Sequential(\n",
        "    nn.Conv2d(1,8, 5,stride=2,padding=2), nn.ReLU(),\n",
        "    nn.Conv2d(8,16,3,stride=2,padding=1), nn.ReLU(),\n",
        "    nn.Conv2d(16,32,3,stride=2,padding=1), nn.ReLU(),\n",
        "    nn.Conv2d(32,1,3,stride=2,padding=1),\n",
        "    nn.AdaptiveAvgPool2d(1),\n",
        "    Flatten(),\n",
        ")"
      ],
      "execution_count": 0,
      "outputs": []
    },
    {
      "cell_type": "code",
      "metadata": {
        "id": "SClIVa8flgr3",
        "colab_type": "code",
        "colab": {}
      },
      "source": [
        "y = y_valid[:100].float()"
      ],
      "execution_count": 0,
      "outputs": []
    },
    {
      "cell_type": "code",
      "metadata": {
        "id": "9mtMEe-Plgr7",
        "colab_type": "code",
        "colab": {},
        "outputId": "5f6a46ad-82e6-4170-844e-6d1028c4b476"
      },
      "source": [
        "t = m(x)\n",
        "stats(t)"
      ],
      "execution_count": 0,
      "outputs": [
        {
          "output_type": "execute_result",
          "data": {
            "text/plain": [
              "(tensor(0.0875, grad_fn=<MeanBackward1>),\n",
              " tensor(0.0065, grad_fn=<StdBackward0>))"
            ]
          },
          "metadata": {
            "tags": []
          },
          "execution_count": 0
        }
      ]
    },
    {
      "cell_type": "code",
      "metadata": {
        "id": "Yv_71Kw6lgsD",
        "colab_type": "code",
        "colab": {}
      },
      "source": [
        "l = mse(t,y)\n",
        "l.backward()"
      ],
      "execution_count": 0,
      "outputs": []
    },
    {
      "cell_type": "code",
      "metadata": {
        "id": "rJcBrOvNlgsF",
        "colab_type": "code",
        "colab": {},
        "outputId": "2db8469c-656e-4cf6-982f-8e5b3948a967"
      },
      "source": [
        "stats(m[0].weight.grad)"
      ],
      "execution_count": 0,
      "outputs": [
        {
          "output_type": "execute_result",
          "data": {
            "text/plain": [
              "(tensor(0.0054), tensor(0.0333))"
            ]
          },
          "metadata": {
            "tags": []
          },
          "execution_count": 0
        }
      ]
    },
    {
      "cell_type": "code",
      "metadata": {
        "id": "mfuetjQulgsH",
        "colab_type": "code",
        "colab": {}
      },
      "source": [
        "init.kaiming_uniform_??"
      ],
      "execution_count": 0,
      "outputs": []
    },
    {
      "cell_type": "code",
      "metadata": {
        "id": "t02tRKLolgsL",
        "colab_type": "code",
        "colab": {}
      },
      "source": [
        "for l in m:\n",
        "    if isinstance(l,nn.Conv2d):\n",
        "        init.kaiming_uniform_(l.weight)\n",
        "        l.bias.data.zero_()"
      ],
      "execution_count": 0,
      "outputs": []
    },
    {
      "cell_type": "code",
      "metadata": {
        "id": "YxlLqcY2lgsP",
        "colab_type": "code",
        "colab": {},
        "outputId": "7a45cf20-28fa-457e-ae60-e7839b043319"
      },
      "source": [
        "t = m(x)\n",
        "stats(t)"
      ],
      "execution_count": 0,
      "outputs": [
        {
          "output_type": "execute_result",
          "data": {
            "text/plain": [
              "(tensor(-0.0352, grad_fn=<MeanBackward1>),\n",
              " tensor(0.4043, grad_fn=<StdBackward0>))"
            ]
          },
          "metadata": {
            "tags": []
          },
          "execution_count": 0
        }
      ]
    },
    {
      "cell_type": "code",
      "metadata": {
        "id": "EYJxeL_QlgsS",
        "colab_type": "code",
        "colab": {},
        "outputId": "face2d76-5f64-41df-91e1-86b13a5df9a2"
      },
      "source": [
        "l = mse(t,y)\n",
        "l.backward()\n",
        "stats(m[0].weight.grad)"
      ],
      "execution_count": 0,
      "outputs": [
        {
          "output_type": "execute_result",
          "data": {
            "text/plain": [
              "(tensor(0.0093), tensor(0.4231))"
            ]
          },
          "metadata": {
            "tags": []
          },
          "execution_count": 0
        }
      ]
    },
    {
      "cell_type": "markdown",
      "metadata": {
        "id": "Cau1ifvklgsV",
        "colab_type": "text"
      },
      "source": [
        "## Export"
      ]
    },
    {
      "cell_type": "code",
      "metadata": {
        "id": "6IK2K3BFlgsW",
        "colab_type": "code",
        "colab": {}
      },
      "source": [
        "!./notebook2script.py 02a_why_sqrt5.ipynb"
      ],
      "execution_count": 0,
      "outputs": []
    },
    {
      "cell_type": "code",
      "metadata": {
        "id": "rAA66DoslgsY",
        "colab_type": "code",
        "colab": {}
      },
      "source": [
        ""
      ],
      "execution_count": 0,
      "outputs": []
    }
  ]
}